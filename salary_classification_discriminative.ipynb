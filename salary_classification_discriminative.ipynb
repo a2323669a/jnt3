{
  "cells": [
    {
      "cell_type": "code",
      "execution_count": 1,
      "metadata": {
        "collapsed": true,
        "pycharm": {
          "is_executing": false,
          "name": "#%% read csv\n"
        }
      },
      "outputs": [],
      "source": "import pandas as pd\nimport numpy as np\ndf \u003d pd.read_csv(\"./data/salary/train.csv\")"
    },
    {
      "cell_type": "code",
      "execution_count": 2,
      "outputs": [],
      "source": "#change obj column to num\ndef to_num(df):\n    col_name \u003d df.columns.values\n    obj_list \u003d []\n    for name in col_name:\n        if df[name].dtype \u003d\u003d \u0027object\u0027:\n            obj_list.append(name)\n    obj_dict \u003d {}\n    for name in obj_list:#list of object column\n        keys \u003d list(dict(list(df.groupby(name))).keys())#various value of this column\n        obj_dict[name] \u003d keys\n        for i in range(len(keys)):\n            key \u003d keys[i]\n            df_col \u003d df[name]\n            df_col[df[name] \u003d\u003d key] \u003d i\n    return df,obj_dict\n# change num converted from obj to one-hot\ndef sperate_obj(df):\n    col_name \u003d df.columns.values\n    obj_list \u003d []\n    for name in col_name:\n        if df[name].dtype \u003d\u003d \u0027object\u0027:\n            obj_list.append(name)\n    obj_dict \u003d {}\n    for name in obj_list:#list of object column\n        keys \u003d list(dict(list(df.groupby(name))).keys())#various value of this column\n        \n        if len(keys) \u003c\u003d 2 :#value types no more than 2,change previous column only\n            obj_dict[name] \u003d keys\n            df_col \u003d df[name]\n            df_col[df[name] \u003d\u003d keys[0]] \u003d 0\n            df_col[df[name] !\u003d 0] \u003d 1\n        else:#need convert to on-hot,i.e.need add and drop columns\n            obj_dict[name] \u003d []\n            for key in keys:\n                #add new col\n                col_name \u003d name+\"_\"+key\n                df[col_name] \u003d 0\n                new_col \u003d df[col_name]\n                new_col[df[name] \u003d\u003d key] \u003d 1\n                obj_dict[name].append(col_name)\n                \n            #drop col\n            df.drop(name,axis \u003d 1,inplace\u003dTrue)\n        \n    return df,obj_dict",
      "metadata": {
        "pycharm": {
          "metadata": false,
          "name": "#%% define fucntion\n",
          "is_executing": false
        }
      }
    },
    {
      "cell_type": "code",
      "execution_count": 3,
      "outputs": [
        {
          "name": "stderr",
          "text": [
            "C:\\Users\\a2323\\Anaconda3\\lib\\site-packages\\ipykernel_launcher.py:40: SettingWithCopyWarning: \nA value is trying to be set on a copy of a slice from a DataFrame\n\nSee the caveats in the documentation: http://pandas.pydata.org/pandas-docs/stable/indexing.html#indexing-view-versus-copy\n",
            "C:\\Users\\a2323\\Anaconda3\\lib\\site-packages\\ipykernel_launcher.py:31: SettingWithCopyWarning: \nA value is trying to be set on a copy of a slice from a DataFrame\n\nSee the caveats in the documentation: http://pandas.pydata.org/pandas-docs/stable/indexing.html#indexing-view-versus-copy\nC:\\Users\\a2323\\Anaconda3\\lib\\site-packages\\ipykernel_launcher.py:32: SettingWithCopyWarning: \nA value is trying to be set on a copy of a slice from a DataFrame\n\nSee the caveats in the documentation: http://pandas.pydata.org/pandas-docs/stable/indexing.html#indexing-view-versus-copy\n"
          ],
          "output_type": "stream"
        }
      ],
      "source": "df_convert,obj_dict \u003d sperate_obj(df)",
      "metadata": {
        "pycharm": {
          "metadata": false,
          "name": "#%% convert dataframe\n",
          "is_executing": false
        }
      }
    },
    {
      "cell_type": "code",
      "execution_count": 4,
      "outputs": [],
      "source": "df_convert.to_csv(\"./result/salary/test.csv\")",
      "metadata": {
        "pycharm": {
          "metadata": false,
          "name": "#%% save converted csv file\n",
          "is_executing": false
        }
      }
    },
    {
      "cell_type": "code",
      "execution_count": null,
      "outputs": [],
      "source": "f \u003d open(\"./result/salary/test\",\u0027w\u0027)\nf.writelines(str(obj_dict))\nf.close()",
      "metadata": {
        "pycharm": {
          "metadata": false,
          "name": "#%% save dict to file\n",
          "is_executing": false
        }
      }
    },
    {
      "cell_type": "code",
      "execution_count": 6,
      "outputs": [],
      "source": "df_label \u003d df_convert.loc[:,\u0027income\u0027]\ndf_train \u003d df_convert.drop(labels\u003d[\u0027income\u0027],axis\u003d1)",
      "metadata": {
        "pycharm": {
          "metadata": false,
          "name": "#%% select columns\n",
          "is_executing": false
        }
      }
    },
    {
      "cell_type": "code",
      "execution_count": 9,
      "outputs": [],
      "source": "data_y \u003d df_label.values.reshape((1,-1)).astype(np.float) #(1,n)\n#must use astype(float),otherwise the dtype is object,will err in numpy operation\ndata_x \u003d df_train.values.astype(np.float) .T #(dim,n)\n#feature scaling\ndata_x \u003d (data_x - np.mean(data_x,axis\u003d1).reshape((-1,1)))/np.std(data_x,axis\u003d1).reshape((-1,1))",
      "metadata": {
        "pycharm": {
          "metadata": false,
          "name": "#%% prepare data for discrimitve model\n",
          "is_executing": false
        }
      }
    },
    {
      "cell_type": "code",
      "execution_count": 16,
      "outputs": [
        {
          "name": "stdout",
          "text": [
            "loss:[[33667.55686632]],acc:0.6615583059488345\n",
            "loss:[[22891.88873777]],acc:0.44504161420103805\n",
            "loss:[[22905.34367354]],acc:0.4498019102607414\n",
            "loss:[[22905.96897274]],acc:0.45087681582260986\n",
            "loss:[[22906.02699396]],acc:0.45075396947268204\n",
            "loss:[[22906.04064014]],acc:0.450784681060164\n",
            "loss:[[22906.04619164]],acc:0.450784681060164\n",
            "loss:[[22906.04888219]],acc:0.45087681582260986\n",
            "loss:[[22906.05041214]],acc:0.45087681582260986\n",
            "loss:[[22906.05148297]],acc:0.4509075274100918\n",
            "loss:[[22906.05237318]],acc:0.4509075274100918\n",
            "loss:[[22906.05318715]],acc:0.4509382389975738\n",
            "loss:[[22906.05396226]],acc:0.4509075274100918\n",
            "loss:[[22906.05471139]],acc:0.4509075274100918\n",
            "loss:[[22906.05543876]],acc:0.45087681582260986\n",
            "loss:[[22906.05614563]],acc:0.45087681582260986\n",
            "loss:[[22906.0568323]],acc:0.4508461042351279\n",
            "loss:[[22906.05749883]],acc:0.4508461042351279\n",
            "loss:[[22906.05814524]],acc:0.450815392647646\n",
            "loss:[[22906.05877158]],acc:0.450784681060164\n",
            "loss:[[22906.05937798]],acc:0.4508461042351279\n",
            "loss:[[22906.05996463]],acc:0.4508461042351279\n",
            "loss:[[22906.06053175]],acc:0.4508461042351279\n",
            "loss:[[22906.06107962]],acc:0.4508461042351279\n",
            "loss:[[22906.06160856]],acc:0.4508461042351279\n",
            "loss:[[22906.06211893]],acc:0.4508461042351279\n",
            "loss:[[22906.06261111]],acc:0.4508461042351279\n",
            "loss:[[22906.06308549]],acc:0.4508461042351279\n",
            "loss:[[22906.0635425]],acc:0.4508461042351279\n",
            "loss:[[22906.06398259]],acc:0.450815392647646\n",
            "loss:[[22906.06440618]],acc:0.450815392647646\n",
            "loss:[[22906.06481374]],acc:0.4508461042351279\n",
            "loss:[[22906.06520572]],acc:0.4508461042351279\n",
            "loss:[[22906.06558258]],acc:0.4508461042351279\n",
            "loss:[[22906.0659448]],acc:0.45087681582260986\n",
            "loss:[[22906.06629282]],acc:0.45087681582260986\n",
            "loss:[[22906.0666271]],acc:0.45087681582260986\n",
            "loss:[[22906.06694809]],acc:0.45087681582260986\n",
            "loss:[[22906.06725624]],acc:0.4509075274100918\n",
            "loss:[[22906.067552]],acc:0.4509382389975738\n",
            "loss:[[22906.06783578]],acc:0.4509382389975738\n",
            "loss:[[22906.06810801]],acc:0.4509382389975738\n",
            "loss:[[22906.06836911]],acc:0.4509382389975738\n",
            "loss:[[22906.06861948]],acc:0.4509382389975738\n",
            "loss:[[22906.06885951]],acc:0.4509382389975738\n",
            "loss:[[22906.0690896]],acc:0.4509382389975738\n",
            "loss:[[22906.06931011]],acc:0.4509382389975738\n",
            "loss:[[22906.06952141]],acc:0.4509382389975738\n"
          ],
          "output_type": "stream"
        },
        {
          "traceback": [
            "\u001b[1;31m---------------------------------------------------------------------------\u001b[0m",
            "\u001b[1;31mKeyboardInterrupt\u001b[0m                         Traceback (most recent call last)",
            "\u001b[1;32m\u003cipython-input-16-1742f5af6b04\u003e\u001b[0m in \u001b[0;36m\u003cmodule\u003e\u001b[1;34m\u001b[0m\n\u001b[0;32m     45\u001b[0m     \u001b[0my\u001b[0m \u001b[1;33m\u003d\u001b[0m \u001b[0mdata_y\u001b[0m\u001b[1;33m\u001b[0m\u001b[1;33m\u001b[0m\u001b[0m\n\u001b[0;32m     46\u001b[0m \u001b[1;33m\u001b[0m\u001b[0m\n\u001b[1;32m---\u003e 47\u001b[1;33m     \u001b[0mw_g\u001b[0m \u001b[1;33m\u003d\u001b[0m \u001b[0mnp\u001b[0m\u001b[1;33m.\u001b[0m\u001b[0mmatmul\u001b[0m\u001b[1;33m(\u001b[0m\u001b[1;33m-\u001b[0m\u001b[0mx\u001b[0m\u001b[1;33m,\u001b[0m \u001b[1;33m(\u001b[0m\u001b[0my\u001b[0m \u001b[1;33m-\u001b[0m \u001b[0mnp\u001b[0m\u001b[1;33m.\u001b[0m\u001b[0mmatmul\u001b[0m\u001b[1;33m(\u001b[0m\u001b[0mw\u001b[0m\u001b[1;33m.\u001b[0m\u001b[0mT\u001b[0m\u001b[1;33m,\u001b[0m\u001b[0mx\u001b[0m\u001b[1;33m)\u001b[0m \u001b[1;33m+\u001b[0m \u001b[0mb\u001b[0m\u001b[1;33m)\u001b[0m\u001b[1;33m.\u001b[0m\u001b[0mT\u001b[0m\u001b[1;33m)\u001b[0m\u001b[1;31m#(1,dim)\u001b[0m\u001b[1;33m\u001b[0m\u001b[1;33m\u001b[0m\u001b[0m\n\u001b[0m\u001b[0;32m     48\u001b[0m     \u001b[0mb_g\u001b[0m \u001b[1;33m\u003d\u001b[0m \u001b[0mnp\u001b[0m\u001b[1;33m.\u001b[0m\u001b[0mmatmul\u001b[0m\u001b[1;33m(\u001b[0m\u001b[1;33m-\u001b[0m\u001b[0mnp\u001b[0m\u001b[1;33m.\u001b[0m\u001b[0mones\u001b[0m\u001b[1;33m(\u001b[0m\u001b[1;33m(\u001b[0m\u001b[1;36m1\u001b[0m\u001b[1;33m,\u001b[0m\u001b[0mn\u001b[0m\u001b[1;33m)\u001b[0m\u001b[1;33m)\u001b[0m\u001b[1;33m,\u001b[0m\u001b[1;33m(\u001b[0m\u001b[0my\u001b[0m \u001b[1;33m-\u001b[0m \u001b[0mnp\u001b[0m\u001b[1;33m.\u001b[0m\u001b[0mmatmul\u001b[0m\u001b[1;33m(\u001b[0m\u001b[0mw\u001b[0m\u001b[1;33m.\u001b[0m\u001b[0mT\u001b[0m\u001b[1;33m,\u001b[0m\u001b[0mx\u001b[0m\u001b[1;33m)\u001b[0m \u001b[1;33m-\u001b[0m \u001b[0mb\u001b[0m\u001b[1;33m)\u001b[0m\u001b[1;33m.\u001b[0m\u001b[0mT\u001b[0m\u001b[1;33m)\u001b[0m\u001b[1;31m#(1,1)\u001b[0m\u001b[1;33m\u001b[0m\u001b[1;33m\u001b[0m\u001b[0m\n\u001b[0;32m     49\u001b[0m \u001b[1;33m\u001b[0m\u001b[0m\n",
            "\u001b[1;31mKeyboardInterrupt\u001b[0m: "
          ],
          "ename": "KeyboardInterrupt",
          "evalue": "",
          "output_type": "error"
        }
      ],
      "source": "#must pay attention : instead of mul(w,x) + b, is sum(mul(w,x)) + b\ndim,n \u003d data_x.shape\nw \u003d np.random.normal(0,0.02,(dim,1))\n#w \u003d np.ones((dim,))\nb \u003d np.zeros((1,1))\nlr \u003d 0.3\nepoches \u003d 2000\n\ndef shuffle(vali_ratio \u003d 0.2):\n    seed \u003d np.random.randint(0,1e6)\n\n    np.random.seed(seed)\n    np.random.shuffle(data_x)\n    np.random.seed(seed)\n    np.random.shuffle(data_y)\n    \n    return data_x,data_y\n\ndef sigmoid(x):\n    return 1./(1.+ np.exp(-x))\n\ndef f(x,w,b):\n    return sigmoid(np.matmul(w.T,x) + b)\n\ndef loss(x,y):\n    pred \u003d f(x,w,b)\n    pred_log \u003d np.log(pred)#q(1) \u003d f(x)\n    no_pred_log \u003d np.log(1.0-pred)#q(0) \u003d 1 - f(x) ; f(x) : probability of class A(1)\n    loss_val \u003d -1.* (np.matmul(y,pred_log.T) + np.matmul((1.0-y),no_pred_log.T))\n    return loss_val\n\ndef accuarcy(x,y):\n    pred \u003df(x,w,b)\n    pred \u003d np.rint(pred)\n    return np.mean(np.equal(pred,y).astype(\u0027float\u0027))\n    \nw_g_square_sum \u003d np.zeros((dim,1))\nb_g_square_sum \u003d np.zeros((1,1))\nfor i in range(epoches):\n    #if this program is interrupted,and this shuffle function is not end,the data wiil wrong\n    #the data_x and data_y may not match again...\n    #x,y \u003d shuffle() \n    \n    x \u003d data_x\n    y \u003d data_y\n   \n    w_g \u003d np.matmul(-x, (y - np.matmul(w.T,x) + b).T)#(1,dim)\n    b_g \u003d np.matmul(-np.ones((1,n)),(y - np.matmul(w.T,x) - b).T)#(1,1)\n    \n    w_g_square_sum +\u003d w_g ** 2\n    b_g_square_sum +\u003d b_g ** 2\n    \n    w1 \u003d w - (lr / np.sqrt(w_g_square_sum))*(w_g)\n    b1 \u003d b - (lr / np.sqrt(b_g_square_sum))*(b_g)\n    \n    w \u003d w1\n    b \u003d b1\n    if i % 10 \u003d\u003d 0 :\n        print(\"loss:{},acc:{}\".format(loss(x,y),accuarcy(x,y)))",
      "metadata": {
        "pycharm": {
          "metadata": false,
          "name": "#%% disctrimitive model \n",
          "is_executing": false
        }
      }
    },
    {
      "cell_type": "code",
      "execution_count": null,
      "outputs": [],
      "source": "f \u003d open(\"./result/salary/wb\",\u0027w\u0027)\nf.writelines(str(w).replace(\u0027  \u0027,\u0027,\u0027))\nf.writelines(str(b))\nf.close()",
      "metadata": {
        "pycharm": {
          "metadata": false,
          "name": "#%% write w and b\n",
          "is_executing": false
        }
      }
    },
    {
      "cell_type": "code",
      "execution_count": null,
      "outputs": [],
      "source": "def load_test(df,obj_dict):\n    col_name \u003d df.columns.values\n    obj_list \u003d []\n    for name in col_name:\n        if df[name].dtype \u003d\u003d \u0027object\u0027:\n            obj_list.append(name)\n   \n    for name in obj_list:#list of object column\n        keys \u003d list(obj_dict[name])#various value of this column\n        \n        if len(keys) \u003c\u003d 2 :#value types no more than 2,change previous column only;no prefix\n            df_col \u003d df[name]\n            df_col[df[name] \u003d\u003d keys[0]] \u003d 0\n            df_col[df[name] !\u003d 0] \u003d 1\n        else:#need convert to on-hot,i.e.need add and drop columns\n            keys \u003d [key[len(name)+1:] for key in keys]#has prefix\n            for key in keys:\n                #add new col\n                col_name \u003d name+\"_\"+key\n                df[col_name] \u003d 0\n                new_col \u003d df[col_name]\n                new_col[df[name] \u003d\u003d key] \u003d 1\n                obj_dict[name].append(col_name)\n                \n            #drop col\n            df.drop(name,axis \u003d 1,inplace\u003dTrue)\n        \n    return df\n\ndf_t \u003d pd.read_csv(\"./data/salary/test.csv\",encoding\u003d\u0027Big5\u0027)\ndf_t_c \u003d load_test(df_t,obj_dict)",
      "metadata": {
        "pycharm": {
          "metadata": false,
          "name": "#%% def function\n",
          "is_executing": false
        }
      }
    },
    {
      "cell_type": "code",
      "execution_count": 11,
      "outputs": [],
      "source": "df_t_c.to_csv(\"./result/salary/temp.csv\")",
      "metadata": {
        "pycharm": {
          "metadata": false,
          "name": "#%%\n",
          "is_executing": false
        }
      }
    },
    {
      "cell_type": "code",
      "execution_count": 34,
      "outputs": [],
      "source": "test_x \u003d df_t_c.values.astype(\u0027float\u0027)\n#remember feature scaling\ntest_x \u003d (test_x - np.mean(test_x,axis\u003d0))/(np.std(test_x,axis\u003d0)+ 1e-10)\n\ntest_z \u003d np.sum(np.multiply(w,test_x),axis\u003d1).reshape((test_x.shape[0],1)) + b #(t_n,1)\npred \u003d sigmoid(test_z)\npred \u003d (pred + 0.5).astype(\u0027int\u0027).reshape((-1,))#\u003c\u003d50K : 0; \u003e50K : 1\n\npred_list \u003d list(pred)\nid_list \u003d range(1,len(pred)+1)\ndf_out \u003d pd.DataFrame({\u0027id\u0027:id_list,\u0027label\u0027:pred_list},dtype\u003d\u0027int\u0027)",
      "metadata": {
        "pycharm": {
          "metadata": false,
          "name": "#%%\n",
          "is_executing": false
        }
      }
    },
    {
      "cell_type": "code",
      "execution_count": 35,
      "outputs": [],
      "source": "df_out.to_csv(\"./result/salary/pred.csv\",index\u003dFalse)\n",
      "metadata": {
        "pycharm": {
          "metadata": false,
          "name": "#%%\n",
          "is_executing": false
        }
      }
    }
  ],
  "metadata": {
    "language_info": {
      "codemirror_mode": {
        "name": "ipython",
        "version": 2
      },
      "file_extension": ".py",
      "mimetype": "text/x-python",
      "name": "python",
      "nbconvert_exporter": "python",
      "pygments_lexer": "ipython2",
      "version": "2.7.6"
    },
    "kernelspec": {
      "name": "python3",
      "language": "python",
      "display_name": "Python 3"
    }
  },
  "nbformat": 4,
  "nbformat_minor": 0
}