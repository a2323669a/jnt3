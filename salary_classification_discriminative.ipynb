{
  "cells": [
    {
      "cell_type": "code",
      "execution_count": null,
      "metadata": {
        "collapsed": true,
        "pycharm": {
          "is_executing": false,
          "name": "#%% read csv\n"
        }
      },
      "outputs": [],
      "source": "import pandas as pd\nimport numpy as np\ndf \u003d pd.read_csv(\"./data/salary/train.csv\")"
    },
    {
      "cell_type": "code",
      "execution_count": null,
      "outputs": [],
      "source": "#change obj column to num\ndef to_num(df):\n    col_name \u003d df.columns.values\n    obj_list \u003d []\n    for name in col_name:\n        if df[name].dtype \u003d\u003d \u0027object\u0027:\n            obj_list.append(name)\n    obj_dict \u003d {}\n    for name in obj_list:#list of object column\n        keys \u003d list(dict(list(df.groupby(name))).keys())#various value of this column\n        obj_dict[name] \u003d keys\n        for i in range(len(keys)):\n            key \u003d keys[i]\n            df_col \u003d df[name]\n            df_col[df[name] \u003d\u003d key] \u003d i\n    return df,obj_dict\n# change num converted from obj to one-hot\ndef sperate_obj(df):\n    col_name \u003d df.columns.values\n    obj_list \u003d []\n    for name in col_name:\n        if df[name].dtype \u003d\u003d \u0027object\u0027:\n            obj_list.append(name)\n    obj_dict \u003d {}\n    for name in obj_list:#list of object column\n        keys \u003d list(dict(list(df.groupby(name))).keys())#various value of this column\n        \n        if len(keys) \u003c\u003d 2 :#value types no more than 2,change previous column only\n            obj_dict[name] \u003d keys\n            df_col \u003d df[name]\n            df_col[df[name] \u003d\u003d keys[0]] \u003d 0\n            df_col[df[name] !\u003d 0] \u003d 1\n        else:#need convert to on-hot,i.e.need add and drop columns\n            obj_dict[name] \u003d []\n            for key in keys:\n                #add new col\n                col_name \u003d name+\"_\"+key\n                df[col_name] \u003d 0\n                new_col \u003d df[col_name]\n                new_col[df[name] \u003d\u003d key] \u003d 1\n                obj_dict[name].append(col_name)\n                \n            #drop col\n            df.drop(name,axis \u003d 1,inplace\u003dTrue)\n        \n    return df,obj_dict",
      "metadata": {
        "pycharm": {
          "metadata": false,
          "name": "#%% define fucntion\n",
          "is_executing": false
        }
      }
    },
    {
      "cell_type": "code",
      "execution_count": 4,
      "outputs": [
        {
          "name": "stderr",
          "text": [
            "C:\\Users\\a2323\\Anaconda3\\lib\\site-packages\\ipykernel_launcher.py:14: SettingWithCopyWarning: \nA value is trying to be set on a copy of a slice from a DataFrame\n\nSee the caveats in the documentation: http://pandas.pydata.org/pandas-docs/stable/indexing.html#indexing-view-versus-copy\n  \n"
          ],
          "output_type": "stream"
        }
      ],
      "source": "df_convert,obj_dict \u003d to_num(df)",
      "metadata": {
        "pycharm": {
          "metadata": false,
          "name": "#%% convert dataframe\n",
          "is_executing": false
        }
      }
    },
    {
      "cell_type": "code",
      "execution_count": null,
      "outputs": [],
      "source": "df.to_csv(\"./result/salary/test.csv\")",
      "metadata": {
        "pycharm": {
          "metadata": false,
          "name": "#%% save converted csv file\n",
          "is_executing": false
        }
      }
    },
    {
      "cell_type": "code",
      "execution_count": null,
      "outputs": [],
      "source": "f \u003d open(\"./result/salary/test\",\u0027w\u0027)\nf.writelines(str(obj_dict))\nf.close()",
      "metadata": {
        "pycharm": {
          "metadata": false,
          "name": "#%% save dict to file\n",
          "is_executing": false
        }
      }
    },
    {
      "cell_type": "code",
      "execution_count": null,
      "outputs": [],
      "source": "df_label \u003d df_convert.loc[:,\u0027income\u0027]\ndf_train \u003d df_convert.drop(labels\u003d[\u0027income\u0027],axis\u003d1)\ndata_y \u003d df_label.values.reshape((-1,1)).astype(np.float)\n#must use astype(float),otherwise the dtype is object,will err in numpy operation\ndata_x \u003d df_train.values.astype(np.float) \n#feature scaling\ndata_x \u003d (data_x - np.mean(data_x,axis\u003d0))/np.std(data_x,axis\u003d0)",
      "metadata": {
        "pycharm": {
          "metadata": false,
          "name": "#%% prepare data for discrimitve model\n",
          "is_executing": false
        }
      }
    },
    {
      "cell_type": "code",
      "execution_count": null,
      "outputs": [],
      "source": "#must pay attention : instead of mul(w,x) + b, is sum(mul(w,x)) + b\nn,dim \u003d data_x.shape\nw \u003d np.random.normal(0,0.02,(dim,))\n#w \u003d np.ones((dim,))\nb \u003d 0\nlr \u003d 1.0\nepoches \u003d 2000\n\ndef shuffle(vali_ratio \u003d 0.2):\n    seed \u003d np.random.randint(0,1e6)\n\n    np.random.seed(seed)\n    np.random.shuffle(data_x)\n    np.random.seed(seed)\n    np.random.shuffle(data_y)\n    \n    return data_x,data_y\n\ndef sigmoid(x):\n    return 1./(1.+np.exp(-x))\n\ndef loss(x,y):\n    wx \u003d np.sum(np.multiply(w,x),axis\u003d1).reshape((n,1))\n    pred \u003d sigmoid(wx + b)\n    pred_log \u003d np.log(pred)#q(1) \u003d f(x)\n    no_pred_log \u003d np.log(1.0-pred)#q(0) \u003d 1 - f(x) ; f(x) : probability of class A(1)\n    loss_val \u003d -1.*np.sum(np.multiply(y,pred_log) + np.multiply((1.0-y),no_pred_log))\n    return loss_val\n\ndef accuarcy(x,y):\n    pred \u003d sigmoid(np.sum(np.multiply(w,x),axis\u003d1).reshape((-1,1)) + b)\n    pred \u003d (pred+0.5).astype(\u0027int\u0027)\n    return np.mean(np.equal(pred,y).astype(\u0027float\u0027))\n    \nw_g_square_sum \u003d np.zeros((dim,))\nb_g_square_sum \u003d 0\nfor i in range(epoches):\n    #if this program is interrupted,and this shuffle function is not end,the data wiil wrong\n    #the data_x and data_y may not match again...\n    #x,y \u003d shuffle() \n    \n    x \u003d data_x\n    y \u003d data_y\n    wx \u003d np.sum(np.multiply(w,x),axis\u003d1).reshape((n,1))\n    k_val \u003d y - sigmoid(wx + b)\n    w_g \u003d -1.*np.sum(np.multiply(k_val,x),axis\u003d0)#(dim,)\n    b_g \u003d -1.*np.sum(k_val)\n    \n    w_g_square_sum +\u003d w_g ** 2\n    b_g_square_sum +\u003d b_g ** 2\n    \n    w1 \u003d w - (lr)*(w_g / np.sqrt(w_g_square_sum))\n    b1 \u003d b - (lr)*(b_g / np.sqrt(b_g_square_sum))\n    \n    w \u003d w1\n    b \u003d b1\n    if i % 10 \u003d\u003d 0 :\n        print(\"loss:{:6.2f},acc:{:.5f}\".format(loss(x,y),accuarcy(x,y)))",
      "metadata": {
        "pycharm": {
          "metadata": false,
          "name": "#%% disctrimitive model \n",
          "is_executing": false
        }
      }
    },
    {
      "cell_type": "code",
      "execution_count": null,
      "outputs": [],
      "source": "f \u003d open(\"./result/salary/wb\",\u0027w\u0027)\nf.writelines(str(w).replace(\u0027  \u0027,\u0027,\u0027))\nf.writelines(str(b))\nf.close()",
      "metadata": {
        "pycharm": {
          "metadata": false,
          "name": "#%% write w and b\n",
          "is_executing": false
        }
      }
    },
    {
      "cell_type": "code",
      "execution_count": null,
      "outputs": [],
      "source": "def load_test(df,obj_dict):\n    col_name \u003d df.columns.values\n    obj_list \u003d []\n    for name in col_name:\n        if df[name].dtype \u003d\u003d \u0027object\u0027:\n            obj_list.append(name)\n   \n    for name in obj_list:#list of object column\n        keys \u003d list(obj_dict[name])#various value of this column\n        \n        if len(keys) \u003c\u003d 2 :#value types no more than 2,change previous column only;no prefix\n            df_col \u003d df[name]\n            df_col[df[name] \u003d\u003d keys[0]] \u003d 0\n            df_col[df[name] !\u003d 0] \u003d 1\n        else:#need convert to on-hot,i.e.need add and drop columns\n            keys \u003d [key[len(name)+1:] for key in keys]#has prefix\n            for key in keys:\n                #add new col\n                col_name \u003d name+\"_\"+key\n                df[col_name] \u003d 0\n                new_col \u003d df[col_name]\n                new_col[df[name] \u003d\u003d key] \u003d 1\n                obj_dict[name].append(col_name)\n                \n            #drop col\n            df.drop(name,axis \u003d 1,inplace\u003dTrue)\n        \n    return df\n\ndf_t \u003d pd.read_csv(\"./data/salary/test.csv\",encoding\u003d\u0027Big5\u0027)\ndf_t_c \u003d load_test(df_t,obj_dict)",
      "metadata": {
        "pycharm": {
          "metadata": false,
          "name": "#%% def function\n",
          "is_executing": false
        }
      }
    },
    {
      "cell_type": "code",
      "execution_count": 11,
      "outputs": [],
      "source": "df_t_c.to_csv(\"./result/salary/temp.csv\")",
      "metadata": {
        "pycharm": {
          "metadata": false,
          "name": "#%%\n",
          "is_executing": false
        }
      }
    },
    {
      "cell_type": "code",
      "execution_count": 34,
      "outputs": [],
      "source": "test_x \u003d df_t_c.values.astype(\u0027float\u0027)\n#remember feature scaling\ntest_x \u003d (test_x - np.mean(test_x,axis\u003d0))/(np.std(test_x,axis\u003d0)+ 1e-10)\n\ntest_z \u003d np.sum(np.multiply(w,test_x),axis\u003d1).reshape((test_x.shape[0],1)) + b #(t_n,1)\npred \u003d sigmoid(test_z)\npred \u003d (pred + 0.5).astype(\u0027int\u0027).reshape((-1,))#\u003c\u003d50K : 0; \u003e50K : 1\n\npred_list \u003d list(pred)\nid_list \u003d range(1,len(pred)+1)\ndf_out \u003d pd.DataFrame({\u0027id\u0027:id_list,\u0027label\u0027:pred_list},dtype\u003d\u0027int\u0027)",
      "metadata": {
        "pycharm": {
          "metadata": false,
          "name": "#%%\n",
          "is_executing": false
        }
      }
    },
    {
      "cell_type": "code",
      "execution_count": 35,
      "outputs": [],
      "source": "df_out.to_csv(\"./result/salary/pred.csv\",index\u003dFalse)\n",
      "metadata": {
        "pycharm": {
          "metadata": false,
          "name": "#%%\n",
          "is_executing": false
        }
      }
    }
  ],
  "metadata": {
    "language_info": {
      "codemirror_mode": {
        "name": "ipython",
        "version": 2
      },
      "file_extension": ".py",
      "mimetype": "text/x-python",
      "name": "python",
      "nbconvert_exporter": "python",
      "pygments_lexer": "ipython2",
      "version": "2.7.6"
    },
    "kernelspec": {
      "name": "python3",
      "language": "python",
      "display_name": "Python 3"
    }
  },
  "nbformat": 4,
  "nbformat_minor": 0
}