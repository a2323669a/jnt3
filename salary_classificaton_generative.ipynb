{
  "cells": [
    {
      "cell_type": "code",
      "execution_count": 1,
      "metadata": {
        "collapsed": true,
        "pycharm": {
          "is_executing": false
        }
      },
      "outputs": [],
      "source": "import pandas as pd\nimport numpy as np\ndf \u003d pd.read_csv(\"./data/salary/train.csv\")"
    },
    {
      "cell_type": "code",
      "execution_count": 2,
      "outputs": [],
      "source": "#change obj column to num\ndef to_num(df):\n    col_name \u003d df.columns.values\n    obj_list \u003d []\n    for name in col_name:\n        if df[name].dtype \u003d\u003d \u0027object\u0027:\n            obj_list.append(name)\n    obj_dict \u003d {}\n    for name in obj_list:#list of object column\n        keys \u003d list(dict(list(df.groupby(name))).keys())#various value of this column\n        obj_dict[name] \u003d keys\n        for i in range(len(keys)):\n            key \u003d keys[i]\n            df_col \u003d df[name]\n            df_col[df[name] \u003d\u003d key] \u003d i\n    return df,obj_dict\n# change num converted from obj to one-hot\ndef sperate_obj(df):\n    col_name \u003d df.columns.values\n    obj_list \u003d []\n    for name in col_name:\n        if df[name].dtype \u003d\u003d \u0027object\u0027:\n            obj_list.append(name)\n    obj_dict \u003d {}\n    for name in obj_list:#list of object column\n        keys \u003d list(dict(list(df.groupby(name))).keys())#various value of this column\n        \n        if len(keys) \u003c\u003d 2 :#value types no more than 2,change previous column only\n            obj_dict[name] \u003d keys\n            df_col \u003d df[name]\n            df_col[df[name] \u003d\u003d keys[0]] \u003d 0\n            df_col[df[name] !\u003d 0] \u003d 1\n        else:#need convert to on-hot,i.e.need add and drop columns\n            obj_dict[name] \u003d []\n            for key in keys:\n                #add new col\n                col_name \u003d name+\"_\"+key\n                df[col_name] \u003d 0\n                new_col \u003d df[col_name]\n                new_col[df[name] \u003d\u003d key] \u003d 1\n                obj_dict[name].append(col_name)\n                \n            #drop col\n            df.drop(name,axis \u003d 1,inplace\u003dTrue)\n        \n    return df,obj_dict",
      "metadata": {
        "pycharm": {
          "metadata": false,
          "name": "#%% define fucntion\n",
          "is_executing": false
        }
      }
    },
    {
      "cell_type": "code",
      "execution_count": 3,
      "outputs": [
        {
          "name": "stderr",
          "text": [
            "C:\\Users\\a2323\\Anaconda3\\lib\\site-packages\\ipykernel_launcher.py:40: SettingWithCopyWarning: \nA value is trying to be set on a copy of a slice from a DataFrame\n\nSee the caveats in the documentation: http://pandas.pydata.org/pandas-docs/stable/indexing.html#indexing-view-versus-copy\n",
            "C:\\Users\\a2323\\Anaconda3\\lib\\site-packages\\ipykernel_launcher.py:31: SettingWithCopyWarning: \nA value is trying to be set on a copy of a slice from a DataFrame\n\nSee the caveats in the documentation: http://pandas.pydata.org/pandas-docs/stable/indexing.html#indexing-view-versus-copy\nC:\\Users\\a2323\\Anaconda3\\lib\\site-packages\\ipykernel_launcher.py:32: SettingWithCopyWarning: \nA value is trying to be set on a copy of a slice from a DataFrame\n\nSee the caveats in the documentation: http://pandas.pydata.org/pandas-docs/stable/indexing.html#indexing-view-versus-copy\n"
          ],
          "output_type": "stream"
        }
      ],
      "source": "df_convert,obj_dict \u003d sperate_obj(df)",
      "metadata": {
        "pycharm": {
          "metadata": false,
          "name": "#%% convert dataframe\n",
          "is_executing": false
        }
      }
    },
    {
      "cell_type": "code",
      "execution_count": 4,
      "outputs": [],
      "source": "df_convert.to_csv(\"./result/salary/test.csv\")",
      "metadata": {
        "pycharm": {
          "metadata": false,
          "name": "#%% save converted csv file\n",
          "is_executing": false
        }
      }
    },
    {
      "cell_type": "code",
      "execution_count": null,
      "outputs": [],
      "source": "f \u003d open(\"./result/salary/test\",\u0027w\u0027)\nf.writelines(str(obj_dict))\nf.close()",
      "metadata": {
        "pycharm": {
          "metadata": false,
          "name": "#%% save dict to file\n"
        }
      }
    },
    {
      "cell_type": "code",
      "execution_count": 5,
      "outputs": [],
      "source": "df_conv_0 \u003d df_convert[df_convert[\u0027income\u0027] \u003d\u003d 0].drop(\u0027income\u0027,axis\u003d1)\ndf_conv_1 \u003d df_convert[df_convert[\u0027income\u0027] \u003d\u003d 1].drop(\u0027income\u0027,axis\u003d1)",
      "metadata": {
        "pycharm": {
          "metadata": false,
          "name": "#%%\n",
          "is_executing": false
        }
      }
    },
    {
      "cell_type": "code",
      "execution_count": 6,
      "outputs": [],
      "source": "data_x_0 \u003d df_conv_0.values.astype(\"float\").T#(dim,n)\ndata_x_1 \u003d df_conv_1.values.astype(\"float\").T\n#no need feature scaling",
      "metadata": {
        "pycharm": {
          "metadata": false,
          "name": "#%% prepare data for discrimitve model\n",
          "is_executing": false
        }
      }
    },
    {
      "cell_type": "code",
      "execution_count": 7,
      "outputs": [],
      "source": "n_0 \u003d data_x_0.shape[1]\nn_1 \u003d data_x_1.shape[1]\nn \u003d n_0 + n_1\n\nmu_0 \u003d np.mean(data_x_0,axis\u003d1).reshape((-1,1))#(dim,1)\nmu_1 \u003d np.mean(data_x_1,axis\u003d1).reshape((-1,1))\n\nsigma_0 \u003d np.cov(data_x_0)#(dim,dim)\nsigma_1 \u003d np.cov(data_x_1)\nsigma \u003d (float(n_0)/float(n)) * sigma_0 + (float(n_1)/float(n)) * sigma_1\nsigma_inv \u003d 1 / (sigma)",
      "metadata": {
        "pycharm": {
          "metadata": false,
          "name": "#%%\n",
          "is_executing": false
        }
      }
    },
    {
      "cell_type": "code",
      "execution_count": 8,
      "outputs": [],
      "source": "w \u003d np.matmul((mu_1-mu_0).T,sigma_inv).T\nb \u003d -0.5 * np.matmul(np.matmul(mu_1.T,sigma_inv),mu_1) \\\n    + 0.5 * np.matmul(np.matmul(mu_0.T,sigma_inv),mu_0) \\\n    + np.log(float(n_1)/float(n_0))",
      "metadata": {
        "pycharm": {
          "metadata": false,
          "name": "#%%\n",
          "is_executing": false
        }
      }
    },
    {
      "cell_type": "code",
      "execution_count": 12,
      "outputs": [],
      "source": "def sigmoid(x):\n    return 1./(1.+np.exp(-x))\ndef f(x,w,b):\n    z \u003d np.matmul(w.T,x) + b\n    pred \u003d sigmoid(z)\n    return pred\n\ndef loss(x,y,w,b):\n    pred \u003d f(x,w,b)\n    pred_log \u003d np.log(pred)#q(1) \u003d f(x)\n    no_pred_log \u003d np.log(1.0-pred)#q(0) \u003d 1 - f(x) ; f(x) : probability of class A(1)\n    loss_val \u003d -1.* (np.matmul(y,pred_log.T) + np.matmul((1.0-y),no_pred_log.T))\n    return loss_val\n\ndef accuarcy(x,y,w,b):\n    pred \u003d f(x,w,b)\n    pred \u003d np.rint(pred)\n    return np.mean(np.equal(pred,y).astype(\u0027float\u0027))",
      "metadata": {
        "pycharm": {
          "metadata": false,
          "name": "#%% generative model \n",
          "is_executing": false
        }
      }
    },
    {
      "cell_type": "code",
      "execution_count": 10,
      "outputs": [],
      "source": "df_label \u003d df_convert.loc[:,\u0027income\u0027]\ndf_train \u003d df_convert.drop(labels\u003d[\u0027income\u0027],axis\u003d1)\ndata_y \u003d df_label.values.reshape((1,-1)).astype(np.float)\n#must use astype(float),otherwise the dtype is object,will err in numpy operation\ndata_x \u003d df_train.values.astype(np.float) .T",
      "metadata": {
        "pycharm": {
          "metadata": false,
          "name": "#%% test loss,acc\n",
          "is_executing": false
        }
      }
    },
    {
      "cell_type": "code",
      "execution_count": 11,
      "outputs": [
        {
          "name": "stderr",
          "text": [
            "C:\\Users\\a2323\\Anaconda3\\lib\\site-packages\\ipykernel_launcher.py:2: RuntimeWarning: overflow encountered in exp\n  \n"
          ],
          "output_type": "stream"
        }
      ],
      "source": "pred_train \u003d f(data_x,w,b)",
      "metadata": {
        "pycharm": {
          "metadata": false,
          "name": "#%%\n",
          "is_executing": false
        }
      }
    },
    {
      "cell_type": "code",
      "execution_count": 14,
      "outputs": [
        {
          "name": "stderr",
          "text": [
            "C:\\Users\\a2323\\Anaconda3\\lib\\site-packages\\ipykernel_launcher.py:2: RuntimeWarning: overflow encountered in exp\n  \n"
          ],
          "output_type": "stream"
        },
        {
          "data": {
            "text/plain": "0.5693928319154817"
          },
          "metadata": {},
          "output_type": "execute_result",
          "execution_count": 14
        }
      ],
      "source": "accuarcy(data_x,data_y,w,b)",
      "metadata": {
        "pycharm": {
          "metadata": false,
          "name": "#%%\n",
          "is_executing": false
        }
      }
    },
    {
      "cell_type": "code",
      "execution_count": 15,
      "outputs": [
        {
          "name": "stderr",
          "text": [
            "C:\\Users\\a2323\\Anaconda3\\lib\\site-packages\\ipykernel_launcher.py:22: SettingWithCopyWarning: \nA value is trying to be set on a copy of a slice from a DataFrame\n\nSee the caveats in the documentation: http://pandas.pydata.org/pandas-docs/stable/indexing.html#indexing-view-versus-copy\n",
            "C:\\Users\\a2323\\Anaconda3\\lib\\site-packages\\ipykernel_launcher.py:13: SettingWithCopyWarning: \nA value is trying to be set on a copy of a slice from a DataFrame\n\nSee the caveats in the documentation: http://pandas.pydata.org/pandas-docs/stable/indexing.html#indexing-view-versus-copy\n  del sys.path[0]\nC:\\Users\\a2323\\Anaconda3\\lib\\site-packages\\ipykernel_launcher.py:14: SettingWithCopyWarning: \nA value is trying to be set on a copy of a slice from a DataFrame\n\nSee the caveats in the documentation: http://pandas.pydata.org/pandas-docs/stable/indexing.html#indexing-view-versus-copy\n  \n"
          ],
          "output_type": "stream"
        }
      ],
      "source": "def load_test(df,obj_dict):\n    col_name \u003d df.columns.values\n    obj_list \u003d []\n    for name in col_name:\n        if df[name].dtype \u003d\u003d \u0027object\u0027:\n            obj_list.append(name)\n   \n    for name in obj_list:#list of object column\n        keys \u003d list(obj_dict[name])#various value of this column\n        \n        if len(keys) \u003c\u003d 2 :#value types no more than 2,change previous column only;no prefix\n            df_col \u003d df[name]\n            df_col[df[name] \u003d\u003d keys[0]] \u003d 0\n            df_col[df[name] !\u003d 0] \u003d 1\n        else:#need convert to on-hot,i.e.need add and drop columns\n            keys \u003d [key[len(name)+1:] for key in keys]#has prefix\n            for key in keys:\n                #add new col\n                col_name \u003d name+\"_\"+key\n                df[col_name] \u003d 0\n                new_col \u003d df[col_name]\n                new_col[df[name] \u003d\u003d key] \u003d 1\n                obj_dict[name].append(col_name)\n                \n            #drop col\n            df.drop(name,axis \u003d 1,inplace\u003dTrue)\n        \n    return df\n\ndf_t \u003d pd.read_csv(\"./data/salary/test.csv\",encoding\u003d\u0027Big5\u0027)\ndf_t_c \u003d load_test(df_t,obj_dict)",
      "metadata": {
        "pycharm": {
          "metadata": false,
          "name": "#%% def function\n",
          "is_executing": false
        }
      }
    },
    {
      "cell_type": "code",
      "execution_count": 11,
      "outputs": [],
      "source": "df_t_c.to_csv(\"./result/salary/temp.csv\")",
      "metadata": {
        "pycharm": {
          "metadata": false,
          "name": "#%%\n",
          "is_executing": false
        }
      }
    },
    {
      "cell_type": "code",
      "execution_count": 16,
      "outputs": [
        {
          "name": "stderr",
          "text": [
            "C:\\Users\\a2323\\Anaconda3\\lib\\site-packages\\ipykernel_launcher.py:2: RuntimeWarning: overflow encountered in exp\n  \n"
          ],
          "output_type": "stream"
        }
      ],
      "source": "test_x \u003d df_t_c.values.astype(\u0027float\u0027).T\n#no feature scaling\n\npred \u003d np.rint(f(test_x,w,b))#\u003c\u003d50K : 0; \u003e50K : 1\n\npred_list \u003d list(pred.reshape((-1,)))\nid_list \u003d range(1,len(pred_list)+1)\ndf_out \u003d pd.DataFrame({\u0027id\u0027:id_list,\u0027label\u0027:pred_list},dtype\u003d\u0027int\u0027)",
      "metadata": {
        "pycharm": {
          "metadata": false,
          "name": "#%%\n",
          "is_executing": false
        }
      }
    },
    {
      "cell_type": "code",
      "execution_count": 17,
      "outputs": [],
      "source": "df_out.to_csv(\"./result/salary/pred.csv\",index\u003dFalse)\n",
      "metadata": {
        "pycharm": {
          "metadata": false,
          "name": "#%%\n",
          "is_executing": false
        }
      }
    }
  ],
  "metadata": {
    "language_info": {
      "codemirror_mode": {
        "name": "ipython",
        "version": 2
      },
      "file_extension": ".py",
      "mimetype": "text/x-python",
      "name": "python",
      "nbconvert_exporter": "python",
      "pygments_lexer": "ipython2",
      "version": "2.7.6"
    },
    "kernelspec": {
      "name": "python3",
      "language": "python",
      "display_name": "Python 3"
    }
  },
  "nbformat": 4,
  "nbformat_minor": 0
}